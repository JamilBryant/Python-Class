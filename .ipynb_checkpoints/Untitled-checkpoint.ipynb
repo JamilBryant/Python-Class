{
 "cells": [
  {
   "cell_type": "code",
   "execution_count": 1,
   "metadata": {},
   "outputs": [],
   "source": [
    "import pandas as pd"
   ]
  },
  {
   "cell_type": "code",
   "execution_count": 3,
   "metadata": {},
   "outputs": [],
   "source": [
    "data = pd.read_csv('data.csv')"
   ]
  },
  {
   "cell_type": "code",
   "execution_count": 4,
   "metadata": {},
   "outputs": [
    {
     "data": {
      "text/html": [
       "<div>\n",
       "<style scoped>\n",
       "    .dataframe tbody tr th:only-of-type {\n",
       "        vertical-align: middle;\n",
       "    }\n",
       "\n",
       "    .dataframe tbody tr th {\n",
       "        vertical-align: top;\n",
       "    }\n",
       "\n",
       "    .dataframe thead th {\n",
       "        text-align: right;\n",
       "    }\n",
       "</style>\n",
       "<table border=\"1\" class=\"dataframe\">\n",
       "  <thead>\n",
       "    <tr style=\"text-align: right;\">\n",
       "      <th></th>\n",
       "      <th>ISRC</th>\n",
       "      <th>ISRC (without dashes)</th>\n",
       "      <th>Track Type (Audio or Video?)</th>\n",
       "      <th>Featured Artist</th>\n",
       "      <th>Track Title</th>\n",
       "      <th>Version</th>\n",
       "      <th>Track Duration</th>\n",
       "      <th>Recording Date</th>\n",
       "    </tr>\n",
       "  </thead>\n",
       "  <tbody>\n",
       "    <tr>\n",
       "      <th>0</th>\n",
       "      <td>QM-EU3-20-00001</td>\n",
       "      <td>QMEU32000001</td>\n",
       "      <td>Audio</td>\n",
       "      <td>Afrodamus</td>\n",
       "      <td>THIS THE INTRO</td>\n",
       "      <td>Single or Album</td>\n",
       "      <td>02:19</td>\n",
       "      <td>2019.0</td>\n",
       "    </tr>\n",
       "    <tr>\n",
       "      <th>1</th>\n",
       "      <td>QM-EU3-20-00002</td>\n",
       "      <td>QMEU32000002</td>\n",
       "      <td>Audio</td>\n",
       "      <td>Afrodamus</td>\n",
       "      <td>IF I WAS STINKMEANER</td>\n",
       "      <td>Single or Album</td>\n",
       "      <td>02:40</td>\n",
       "      <td>2019.0</td>\n",
       "    </tr>\n",
       "    <tr>\n",
       "      <th>2</th>\n",
       "      <td>QM-EU3-20-00003</td>\n",
       "      <td>QMEU32000003</td>\n",
       "      <td>Audio</td>\n",
       "      <td>Afrodamus</td>\n",
       "      <td>LIMITED EDITION LEO ROMERO'S</td>\n",
       "      <td>Single or Album</td>\n",
       "      <td>02:38</td>\n",
       "      <td>2019.0</td>\n",
       "    </tr>\n",
       "    <tr>\n",
       "      <th>3</th>\n",
       "      <td>QM-EU3-20-00004</td>\n",
       "      <td>QMEU32000004</td>\n",
       "      <td>Audio</td>\n",
       "      <td>Afrodamus</td>\n",
       "      <td>RARE BOTTLE OF BUBBLES</td>\n",
       "      <td>Single or Album</td>\n",
       "      <td>02:15</td>\n",
       "      <td>2019.0</td>\n",
       "    </tr>\n",
       "    <tr>\n",
       "      <th>4</th>\n",
       "      <td>QM-EU3-20-00005</td>\n",
       "      <td>QMEU32000005</td>\n",
       "      <td>Audio</td>\n",
       "      <td>Afrodamus</td>\n",
       "      <td>JUNK FOOD JUNKIE</td>\n",
       "      <td>Single or Album</td>\n",
       "      <td>01:52</td>\n",
       "      <td>2019.0</td>\n",
       "    </tr>\n",
       "  </tbody>\n",
       "</table>\n",
       "</div>"
      ],
      "text/plain": [
       "              ISRC ISRC (without dashes) Track Type (Audio or Video?)  \\\n",
       "0  QM-EU3-20-00001          QMEU32000001                        Audio   \n",
       "1  QM-EU3-20-00002          QMEU32000002                        Audio   \n",
       "2  QM-EU3-20-00003          QMEU32000003                        Audio   \n",
       "3  QM-EU3-20-00004          QMEU32000004                        Audio   \n",
       "4  QM-EU3-20-00005          QMEU32000005                        Audio   \n",
       "\n",
       "  Featured Artist                   Track Title          Version  \\\n",
       "0       Afrodamus                THIS THE INTRO  Single or Album   \n",
       "1       Afrodamus          IF I WAS STINKMEANER  Single or Album   \n",
       "2       Afrodamus  LIMITED EDITION LEO ROMERO'S  Single or Album   \n",
       "3       Afrodamus        RARE BOTTLE OF BUBBLES  Single or Album   \n",
       "4       Afrodamus              JUNK FOOD JUNKIE  Single or Album   \n",
       "\n",
       "  Track Duration  Recording Date  \n",
       "0          02:19          2019.0  \n",
       "1          02:40          2019.0  \n",
       "2          02:38          2019.0  \n",
       "3          02:15          2019.0  \n",
       "4          01:52          2019.0  "
      ]
     },
     "execution_count": 4,
     "metadata": {},
     "output_type": "execute_result"
    }
   ],
   "source": [
    "data.head()"
   ]
  },
  {
   "cell_type": "code",
   "execution_count": null,
   "metadata": {},
   "outputs": [],
   "source": []
  }
 ],
 "metadata": {
  "kernelspec": {
   "display_name": "Python 2",
   "language": "python",
   "name": "python2"
  },
  "language_info": {
   "codemirror_mode": {
    "name": "ipython",
    "version": 2
   },
   "file_extension": ".py",
   "mimetype": "text/x-python",
   "name": "python",
   "nbconvert_exporter": "python",
   "pygments_lexer": "ipython2",
   "version": "2.7.16"
  }
 },
 "nbformat": 4,
 "nbformat_minor": 2
}
